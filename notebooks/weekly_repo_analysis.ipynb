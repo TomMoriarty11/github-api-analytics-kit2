# Weekly GitHub Repo Analysis

from core.github_wrapper import GitHubAPI
from utils.aggregator import aggregate_commits_by_week
from utils.profiler import profile_repo_data

# Initialize API
api = GitHubAPI()

# Example repo
owner = "octocat"
repo = "Hello-World"

# Fetch commits
commits = api.get_repo_commits(owner, repo)

# Profile data
profile = profile_repo_data(commits)
print("Repo Profile:", profile)

# Weekly aggregation
weekly = aggregate_commits_by_week(commits)
print("Weekly Commit Summary:")
print(weekly)
